{
 "cells": [
  {
   "cell_type": "markdown",
   "metadata": {},
   "source": [
    "<h1>Importing Libraries"
   ]
  },
  {
   "cell_type": "code",
   "execution_count": 1,
   "metadata": {},
   "outputs": [],
   "source": [
    "#https://www.youtube.com/watch?v=06TE_U21FK4&t=1199s, using this video to learn this\n",
    "import cv2 as cv\n",
    "import mediapipe as mp\n",
    "import numpy as np\n",
    "mp_drawing = mp.solutions.drawing_utils\n",
    "mp_pose = mp.solutions.pose"
   ]
  },
  {
   "cell_type": "markdown",
   "metadata": {},
   "source": [
    "<h1>1. Accessing webcam and displaying it"
   ]
  },
  {
   "cell_type": "code",
   "execution_count": 2,
   "metadata": {},
   "outputs": [
    {
     "name": "stderr",
     "output_type": "stream",
     "text": [
      "c:\\Users\\Yokai\\AppData\\Local\\Programs\\Python\\Python312\\Lib\\site-packages\\google\\protobuf\\symbol_database.py:55: UserWarning: SymbolDatabase.GetPrototype() is deprecated. Please use message_factory.GetMessageClass() instead. SymbolDatabase.GetPrototype() will be removed soon.\n",
      "  warnings.warn('SymbolDatabase.GetPrototype() is deprecated. Please '\n"
     ]
    }
   ],
   "source": [
    "# Open the webcam (0 indicates the default webcam)\n",
    "cap = cv.VideoCapture(0)\n",
    "\n",
    "# Use the MediaPipe Pose function with specified confidence thresholds for detection and tracking\n",
    "with mp_pose.Pose(min_detection_confidence=0.5, min_tracking_confidence=0.5) as pose:\n",
    "    while cap.isOpened():  # Continue reading frames as long as the webcam is open\n",
    "        ret, frame = cap.read()  # Read a frame from the webcam\n",
    "        if not ret:  # If frame reading fails, break the loop\n",
    "            break\n",
    "\n",
    "        # Convert the frame from BGR (OpenCV format) to RGB (MediaPipe format)\n",
    "        image = cv.cvtColor(frame, cv.COLOR_BGR2RGB)\n",
    "        image.flags.writeable = False  # Set the image to read-only to improve performance\n",
    "\n",
    "        # Process the image to detect pose landmarks\n",
    "        results = pose.process(image)\n",
    "\n",
    "        # Convert the processed image back to BGR for OpenCV\n",
    "        image = cv.cvtColor(image, cv.COLOR_RGB2BGR)\n",
    "        image.flags.writeable = True  # Set the image to writable\n",
    "\n",
    "        try:\n",
    "            landmarks = results.pose_landmarks.landmark\n",
    "        except:\n",
    "            pass\n",
    "\n",
    "        # Draw the pose landmarks on the image if landmarks are detected\n",
    "        if results.pose_landmarks:\n",
    "            mp_drawing.draw_landmarks(\n",
    "                image, results.pose_landmarks, mp_pose.POSE_CONNECTIONS,\n",
    "                mp_drawing.DrawingSpec(color=(76, 76,241 ), thickness= 2, circle_radius=2), #for landmarks\n",
    "                mp_drawing.DrawingSpec(color=(139, 255, 144), thickness= 2, circle_radius=2) # for connection\n",
    "                )#Here the color is in bgr format\n",
    "\n",
    "        # Display the image with landmarks in a window named \"Webcam Feed\"\n",
    "        cv.imshow(\"Webcam Feed\", image)\n",
    "\n",
    "        # Break the loop if the 'q' key is pressed\n",
    "        if cv.waitKey(10) & 0xFF == ord('q'):\n",
    "            break\n",
    "\n",
    "# Release the webcam and close the OpenCV window\n",
    "cap.release()\n",
    "\n",
    "cv.destroyAllWindows()"
   ]
  },
  {
   "cell_type": "markdown",
   "metadata": {},
   "source": [
    "<h1>2. Determining Joints</h1>"
   ]
  },
  {
   "cell_type": "code",
   "execution_count": 3,
   "metadata": {},
   "outputs": [
    {
     "data": {
      "text/plain": [
       "33"
      ]
     },
     "execution_count": 3,
     "metadata": {},
     "output_type": "execute_result"
    }
   ],
   "source": [
    "len(landmarks)"
   ]
  },
  {
   "cell_type": "code",
   "execution_count": null,
   "metadata": {},
   "outputs": [],
   "source": [
    "# Here we are printing which point gives which landmark\n",
    "for i in mp_pose.PoseLandmark:\n",
    "    print(i.name)"
   ]
  },
  {
   "cell_type": "code",
   "execution_count": 5,
   "metadata": {},
   "outputs": [
    {
     "data": {
      "text/plain": [
       "<PoseLandmark.LEFT_SHOULDER: 11>"
      ]
     },
     "execution_count": 5,
     "metadata": {},
     "output_type": "execute_result"
    }
   ],
   "source": [
    "mp_pose.PoseLandmark.LEFT_SHOULDER"
   ]
  },
  {
   "cell_type": "markdown",
   "metadata": {},
   "source": [
    "<h3>Grabbing landmarks from our video feed"
   ]
  },
  {
   "cell_type": "code",
   "execution_count": 6,
   "metadata": {},
   "outputs": [
    {
     "data": {
      "text/plain": [
       "x: 0.674743474\n",
       "y: 0.952904463\n",
       "z: -0.194127455\n",
       "visibility: 0.998709142"
      ]
     },
     "execution_count": 6,
     "metadata": {},
     "output_type": "execute_result"
    }
   ],
   "source": [
    "landmarks[mp_pose.PoseLandmark.LEFT_SHOULDER.value]"
   ]
  },
  {
   "cell_type": "code",
   "execution_count": 7,
   "metadata": {},
   "outputs": [
    {
     "data": {
      "text/plain": [
       "x: 0.759268522\n",
       "y: 1.24112356\n",
       "z: -0.194696292\n",
       "visibility: 0.0755195841"
      ]
     },
     "execution_count": 7,
     "metadata": {},
     "output_type": "execute_result"
    }
   ],
   "source": [
    "landmarks[mp_pose.PoseLandmark.LEFT_ELBOW.value]"
   ]
  },
  {
   "cell_type": "code",
   "execution_count": 8,
   "metadata": {},
   "outputs": [
    {
     "data": {
      "text/plain": [
       "x: 0.759255469\n",
       "y: 1.46481061\n",
       "z: -0.451325506\n",
       "visibility: 0.0177333746"
      ]
     },
     "execution_count": 8,
     "metadata": {},
     "output_type": "execute_result"
    }
   ],
   "source": [
    "landmarks[mp_pose.PoseLandmark.LEFT_WRIST.value]"
   ]
  },
  {
   "cell_type": "markdown",
   "metadata": {},
   "source": [
    "<h1>3. Calculating Angles"
   ]
  },
  {
   "cell_type": "code",
   "execution_count": 18,
   "metadata": {},
   "outputs": [],
   "source": [
    "def calculateAngle(a, b, c):\n",
    "    # Convert the points to NumPy arrays for vectorized operations\n",
    "    a = np.array(a)\n",
    "    b = np.array(b)\n",
    "    c = np.array(c)\n",
    "\n",
    "    # Calculate the angle in radians using the arctan2 function\n",
    "    # The arctan2 function returns the arctangent of the quotient of its arguments, taking into account the sign to determine the correct quadrant\n",
    "    radians = np.arctan2(b[1] - a[1], b[0] - a[0]) - np.arctan2(b[1] - c[1], b[0] - c[0])\n",
    "    \n",
    "    # Convert the angle from radians to degrees\n",
    "    angle = np.abs(radians * 180.0 / np.pi)\n",
    "\n",
    "    # Adjust the angle to be within the range of 0 to 180 degrees\n",
    "    if angle > 180.0:\n",
    "        angle = 360 - angle\n",
    "    \n",
    "    # Return the calculated angle\n",
    "    return angle"
   ]
  },
  {
   "cell_type": "code",
   "execution_count": 11,
   "metadata": {},
   "outputs": [
    {
     "data": {
      "text/plain": [
       "[0.6747434735298157, 0.952904462814331]"
      ]
     },
     "execution_count": 11,
     "metadata": {},
     "output_type": "execute_result"
    }
   ],
   "source": [
    "shoulder = [landmarks[mp_pose.PoseLandmark.LEFT_SHOULDER.value].x, landmarks[mp_pose.PoseLandmark.LEFT_SHOULDER.value].y]\n",
    "shoulder"
   ]
  },
  {
   "cell_type": "code",
   "execution_count": 13,
   "metadata": {},
   "outputs": [
    {
     "data": {
      "text/plain": [
       "[0.7592685222625732, 1.2411235570907593]"
      ]
     },
     "execution_count": 13,
     "metadata": {},
     "output_type": "execute_result"
    }
   ],
   "source": [
    "elbow = [landmarks[mp_pose.PoseLandmark.LEFT_ELBOW.value].x, landmarks[mp_pose.PoseLandmark.LEFT_ELBOW.value].y]\n",
    "elbow"
   ]
  },
  {
   "cell_type": "code",
   "execution_count": 14,
   "metadata": {},
   "outputs": [
    {
     "data": {
      "text/plain": [
       "[0.7592554688453674, 1.4648106098175049]"
      ]
     },
     "execution_count": 14,
     "metadata": {},
     "output_type": "execute_result"
    }
   ],
   "source": [
    "wrist = [landmarks[mp_pose.PoseLandmark.LEFT_WRIST.value].x, landmarks[mp_pose.PoseLandmark.LEFT_WRIST.value].y]\n",
    "wrist"
   ]
  },
  {
   "cell_type": "code",
   "execution_count": 20,
   "metadata": {},
   "outputs": [
    {
     "data": {
      "text/plain": [
       "np.float64(163.65200286227727)"
      ]
     },
     "execution_count": 20,
     "metadata": {},
     "output_type": "execute_result"
    }
   ],
   "source": [
    "calculateAngle(shoulder, elbow, wrist)"
   ]
  },
  {
   "cell_type": "code",
   "execution_count": 23,
   "metadata": {},
   "outputs": [],
   "source": [
    "# Open the webcam (0 indicates the default webcam)\n",
    "cap = cv.VideoCapture(0)\n",
    "\n",
    "# Use the MediaPipe Pose function with specified confidence thresholds for detection and tracking\n",
    "with mp_pose.Pose(min_detection_confidence=0.5, min_tracking_confidence=0.5) as pose:\n",
    "    while cap.isOpened():  # Continue reading frames as long as the webcam is open\n",
    "        ret, frame = cap.read()  # Read a frame from the webcam\n",
    "        if not ret:  # If frame reading fails, break the loop\n",
    "            break\n",
    "\n",
    "        # Convert the frame from BGR (OpenCV format) to RGB (MediaPipe format)\n",
    "        image = cv.cvtColor(frame, cv.COLOR_BGR2RGB)\n",
    "        image.flags.writeable = False  # Set the image to read-only to improve performance\n",
    "\n",
    "        # Process the image to detect pose landmarks\n",
    "        results = pose.process(image)\n",
    "\n",
    "        # Convert the processed image back to BGR for OpenCV\n",
    "        image = cv.cvtColor(image, cv.COLOR_RGB2BGR)\n",
    "        image.flags.writeable = True  # Set the image to writable\n",
    "\n",
    "        try:\n",
    "            landmarks = results.pose_landmarks.landmark\n",
    "\n",
    "            # taking landmarks\n",
    "            shoulder = [landmarks[mp_pose.PoseLandmark.LEFT_SHOULDER.value].x,\n",
    "                        landmarks[mp_pose.PoseLandmark.LEFT_SHOULDER.value].y]\n",
    "            elbow = [landmarks[mp_pose.PoseLandmark.LEFT_ELBOW.value].x,\n",
    "                     landmarks[mp_pose.PoseLandmark.LEFT_ELBOW.value].y]\n",
    "            wrist = [landmarks[mp_pose.PoseLandmark.LEFT_WRIST.value].x,\n",
    "                     landmarks[mp_pose.PoseLandmark.LEFT_WRIST.value].y]\n",
    "\n",
    "            # calculating angle\n",
    "            angle = calculateAngle(shoulder, elbow, wrist)\n",
    "\n",
    "            # Visualize\n",
    "            cv.putText(img=image,\n",
    "                       text=str(angle),\n",
    "                       org=tuple(np.multiply(elbow, [640, 480]).astype(int)),\n",
    "                       fontFace=cv.FONT_HERSHEY_SIMPLEX,\n",
    "                       fontScale=0.5, color=(255, 255, 255),\n",
    "                       thickness=2,\n",
    "                       lineType=cv.LINE_AA\n",
    "                       )\n",
    "        except:\n",
    "            pass\n",
    "\n",
    "        # Draw the pose landmarks on the image if landmarks are detected\n",
    "        if results.pose_landmarks:\n",
    "            mp_drawing.draw_landmarks(\n",
    "                image, results.pose_landmarks, mp_pose.POSE_CONNECTIONS,\n",
    "                mp_drawing.DrawingSpec(\n",
    "                    # for landmarks\n",
    "                    color=(76, 76, 241), thickness=2, circle_radius=2),\n",
    "                mp_drawing.DrawingSpec(\n",
    "                    # for connection\n",
    "                    color=(139, 255, 144), thickness=2, circle_radius=2)\n",
    "            )  # Here the color is in bgr format\n",
    "\n",
    "        # Display the image with landmarks in a window named \"Webcam Feed\"\n",
    "        cv.imshow(\"Webcam Feed\", image)\n",
    "\n",
    "        # Break the loop if the 'q' key is pressed\n",
    "        if cv.waitKey(10) & 0xFF == ord('q'):\n",
    "            break\n",
    "\n",
    "# Release the webcam and close the OpenCV window\n",
    "cap.release()\n",
    "\n",
    "cv.destroyAllWindows()"
   ]
  }
 ],
 "metadata": {
  "kernelspec": {
   "display_name": "Python 3",
   "language": "python",
   "name": "python3"
  },
  "language_info": {
   "codemirror_mode": {
    "name": "ipython",
    "version": 3
   },
   "file_extension": ".py",
   "mimetype": "text/x-python",
   "name": "python",
   "nbconvert_exporter": "python",
   "pygments_lexer": "ipython3",
   "version": "3.12.4"
  }
 },
 "nbformat": 4,
 "nbformat_minor": 2
}
