{
 "cells": [
  {
   "cell_type": "code",
   "execution_count": 1,
   "metadata": {},
   "outputs": [],
   "source": [
    "#https://www.youtube.com/watch?v=06TE_U21FK4&t=1199s, using this video to learn this\n",
    "import cv2 as cv\n",
    "import mediapipe as mp\n",
    "import numpy as np\n",
    "mp_drawing = mp.solutions.drawing_utils\n",
    "mp_pose = mp.solutions.pose"
   ]
  },
  {
   "cell_type": "code",
   "execution_count": null,
   "metadata": {},
   "outputs": [],
   "source": [
    "# Open the webcam (0 indicates the default webcam)\n",
    "cap = cv.VideoCapture(0)\n",
    "\n",
    "# Use the MediaPipe Pose function with specified confidence thresholds for detection and tracking\n",
    "with mp_pose.Pose(min_detection_confidence=0.5, min_tracking_confidence=0.5) as pose:\n",
    "    while cap.isOpened():  # Continue reading frames as long as the webcam is open\n",
    "        ret, frame = cap.read()  # Read a frame from the webcam\n",
    "        if not ret:  # If frame reading fails, break the loop\n",
    "            break\n",
    "\n",
    "        # Convert the frame from BGR (OpenCV format) to RGB (MediaPipe format)\n",
    "        image = cv.cvtColor(frame, cv.COLOR_BGR2RGB)\n",
    "        image.flags.writeable = False  # Set the image to read-only to improve performance\n",
    "\n",
    "        # Process the image to detect pose landmarks\n",
    "        results = pose.process(image)\n",
    "\n",
    "        # Convert the processed image back to BGR for OpenCV\n",
    "        image = cv.cvtColor(image, cv.COLOR_RGB2BGR)\n",
    "        image.flags.writeable = True  # Set the image to writable\n",
    "\n",
    "        # Draw the pose landmarks on the image if landmarks are detected\n",
    "        if results.pose_landmarks:\n",
    "            mp_drawing.draw_landmarks(\n",
    "                image, results.pose_landmarks, mp_pose.POSE_CONNECTIONS,\n",
    "                mp_drawing.DrawingSpec(color=(76, 76,241 ), thickness= 2, circle_radius=2), #for landmarks\n",
    "                mp_drawing.DrawingSpec(color=(139, 255, 144), thickness= 2, circle_radius=2) # for connection\n",
    "                )#Here the color is in bgr format\n",
    "\n",
    "        # Display the image with landmarks in a window named \"Webcam Feed\"\n",
    "        cv.imshow(\"Webcam Feed\", image)\n",
    "\n",
    "        # Break the loop if the 'q' key is pressed\n",
    "        if cv.waitKey(10) & 0xFF == ord('q'):\n",
    "            break\n",
    "\n",
    "# Release the webcam and close the OpenCV window\n",
    "cap.release()\n",
    "\n",
    "cv.destroyAllWindows()"
   ]
  }
 ],
 "metadata": {
  "kernelspec": {
   "display_name": "Python 3",
   "language": "python",
   "name": "python3"
  },
  "language_info": {
   "codemirror_mode": {
    "name": "ipython",
    "version": 3
   },
   "file_extension": ".py",
   "mimetype": "text/x-python",
   "name": "python",
   "nbconvert_exporter": "python",
   "pygments_lexer": "ipython3",
   "version": "3.12.4"
  }
 },
 "nbformat": 4,
 "nbformat_minor": 2
}
